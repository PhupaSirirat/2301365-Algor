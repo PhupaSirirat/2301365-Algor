{
 "cells": [
  {
   "cell_type": "code",
   "execution_count": 1,
   "id": "de70d676",
   "metadata": {},
   "outputs": [
    {
     "name": "stdout",
     "output_type": "stream",
     "text": [
      "2\n",
      "3\n",
      "3\n",
      "10\n",
      "5\n",
      "5\n",
      "******************\n",
      "2\n"
     ]
    }
   ],
   "source": [
    "from itertools import combinations\n",
    "\n",
    "def brute(arr, K):\n",
    "    n = len(arr)\n",
    "    pairs = []\n",
    "    \n",
    "    # Step 1: Identify all valid (G, P) pairs within distance K\n",
    "    for i in range(n):\n",
    "        if arr[i] == 'G':\n",
    "            for j in range(max(0, i - K), min(n, i + K + 1)):\n",
    "                if arr[j] == 'P' and abs(i - j) <= K:\n",
    "                    pairs.append((i, j))\n",
    "    \n",
    "    max_pickups = 0\n",
    "    max_solutions = 0\n",
    "    \n",
    "    # Step 2: Generate all possible combinations of these pairs\n",
    "    for r in range(1, len(pairs) + 1):\n",
    "        for comb in combinations(pairs, r):\n",
    "            # Step 3: Check if this combination is valid (no 'G' or 'P' is reused)\n",
    "            used_grabs = set()\n",
    "            used_passengers = set()\n",
    "            valid_comb = True\n",
    "            \n",
    "            for g, p in comb:\n",
    "                if g in used_grabs or p in used_passengers:\n",
    "                    valid_comb = False\n",
    "                    break\n",
    "                used_grabs.add(g)\n",
    "                used_passengers.add(p)\n",
    "            \n",
    "            if valid_comb:\n",
    "                pickups = len(comb)\n",
    "                # Step 4: Check if this combination gives maximum pickups\n",
    "                if pickups > max_pickups:\n",
    "                    max_pickups = pickups\n",
    "                    max_solutions = 1\n",
    "                elif pickups == max_pickups:\n",
    "                    max_solutions += 1\n",
    "    \n",
    "    return max_pickups#, max_solutions\n",
    "\n",
    "# Example usage:\n",
    "arr1 = ['G', 'P', 'P', 'G', 'P']\n",
    "arr2 = ['P', 'P', 'G', 'G', 'P', 'G']\n",
    "arr3 =['G', 'P', 'G', 'P', 'P', 'G']\n",
    "extra_arr1=['G','P','G','P','G','P','G','P','G','P','G','P','G','P','G','P','G','P','G','P']\n",
    "extra_arr2=['G','G','P','P','G','G','G','G','P','P','P','G']\n",
    "extra_arr3=['G','G','P','P','G','P','P','P','G','G','P','P']\n",
    "extra_arr5=['P','P','G','P','G','P']\n",
    "                \n",
    "print(brute(arr1, 1)) \n",
    "print(brute(arr2, 2))\n",
    "print(brute(arr3, 3))\n",
    "print(brute(extra_arr1, 2))\n",
    "print(brute(extra_arr2, 3))\n",
    "print(brute(extra_arr3, 3))\n",
    "print(\"******************\")\n",
    "print(brute(extra_arr5, 2))\n"
   ]
  }
 ],
 "metadata": {
  "kernelspec": {
   "display_name": "Python 3 (ipykernel)",
   "language": "python",
   "name": "python3"
  },
  "language_info": {
   "codemirror_mode": {
    "name": "ipython",
    "version": 3
   },
   "file_extension": ".py",
   "mimetype": "text/x-python",
   "name": "python",
   "nbconvert_exporter": "python",
   "pygments_lexer": "ipython3",
   "version": "3.11.5"
  }
 },
 "nbformat": 4,
 "nbformat_minor": 5
}
