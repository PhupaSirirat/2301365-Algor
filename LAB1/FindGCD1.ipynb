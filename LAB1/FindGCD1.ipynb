{
 "cells": [
  {
   "cell_type": "code",
   "execution_count": 1,
   "metadata": {},
   "outputs": [],
   "source": [
    "import time"
   ]
  },
  {
   "cell_type": "code",
   "execution_count": 2,
   "metadata": {},
   "outputs": [],
   "source": [
    "def is_prime(n):\n",
    "    operations = 0\n",
    "    if n < 2:\n",
    "        operations += 1\n",
    "        return False, operations\n",
    "    for i in range(2, int(n**0.5) + 1):\n",
    "        operations += 1\n",
    "        if n % i == 0:\n",
    "            operations += 1\n",
    "            return False, operations\n",
    "    operations += 1\n",
    "    return True, operations\n",
    "\n",
    "def prime_factorization(n):\n",
    "    factors = []\n",
    "    operations = 0\n",
    "    for i in range(2, n + 1):\n",
    "        is_prime_result, prime_ops = is_prime(i)\n",
    "        operations += prime_ops\n",
    "        operations += 1\n",
    "        if is_prime_result:\n",
    "            while n % i == 0:\n",
    "                operations += 1\n",
    "                factors.append(i)\n",
    "                n //= i\n",
    "            if n == 1:\n",
    "                break\n",
    "    return factors, operations\n",
    "\n",
    "def FindGCD1(m, n):\n",
    "    total_operations = 0\n",
    "    \n",
    "    print(\"Step 1: Prime factorization of m\")\n",
    "    m_factors, m_ops = prime_factorization(m)\n",
    "    print(f\"Factors of {m}: {m_factors}\")\n",
    "    print(f\"Operations for Step 1: {m_ops}\")\n",
    "    total_operations += m_ops\n",
    "    \n",
    "    print(\"\\nStep 2: Prime factorization of n\")\n",
    "    n_factors, n_ops = prime_factorization(n)\n",
    "    print(f\"Factors of {n}: {n_factors}\")\n",
    "    print(f\"Operations for Step 2: {n_ops}\")\n",
    "    total_operations += n_ops\n",
    "    \n",
    "    print(\"\\nStep 3: Find common prime factors\")\n",
    "    common_factors = []\n",
    "    m_index = n_index = 0\n",
    "    step3_ops = 0\n",
    "    while m_index < len(m_factors) and n_index < len(n_factors):\n",
    "        step3_ops += 1\n",
    "        if m_factors[m_index] == n_factors[n_index]:\n",
    "            common_factors.append(m_factors[m_index])\n",
    "            m_index += 1\n",
    "            n_index += 1\n",
    "        elif m_factors[m_index] < n_factors[n_index]:\n",
    "            m_index += 1\n",
    "        else:\n",
    "            n_index += 1\n",
    "    print(f\"Common factors: {common_factors}\")\n",
    "    print(f\"Operations for Step 3: {step3_ops}\")\n",
    "    total_operations += step3_ops\n",
    "    \n",
    "    print(\"\\nStep 4: Compute GCD\")\n",
    "    gcd = 1\n",
    "    step4_ops = 0\n",
    "    for factor in common_factors:\n",
    "        gcd *= factor\n",
    "        step4_ops += 1\n",
    "    print(f\"GCD({m}, {n}) = {gcd}\")\n",
    "    print(f\"Operations for Step 4: {step4_ops}\")\n",
    "    total_operations += step4_ops\n",
    "    \n",
    "    print(f\"\\nTotal operations: {total_operations}\")\n",
    "    return gcd, total_operations"
   ]
  },
  {
   "cell_type": "code",
   "execution_count": 3,
   "metadata": {},
   "outputs": [],
   "source": [
    "def GCD(m, n):\n",
    "    start_time = time.time()\n",
    "    result, totalOperations = FindGCD1(m, n)\n",
    "    end_time = time.time()\n",
    "    execution_time = end_time - start_time\n",
    "    print(f\"Execution time: {execution_time:.6f} seconds\")"
   ]
  },
  {
   "cell_type": "code",
   "execution_count": 4,
   "metadata": {},
   "outputs": [
    {
     "name": "stdout",
     "output_type": "stream",
     "text": [
      "Step 1: Prime factorization of m\n",
      "Factors of 48: [2, 2, 2, 2, 3]\n",
      "Operations for Step 1: 9\n",
      "\n",
      "Step 2: Prime factorization of n\n",
      "Factors of 18: [2, 3, 3]\n",
      "Operations for Step 2: 7\n",
      "\n",
      "Step 3: Find common prime factors\n",
      "Common factors: [2, 3]\n",
      "Operations for Step 3: 5\n",
      "\n",
      "Step 4: Compute GCD\n",
      "GCD(48, 18) = 6\n",
      "Operations for Step 4: 2\n",
      "\n",
      "Total operations: 23\n",
      "Execution time: 0.000059 seconds\n"
     ]
    }
   ],
   "source": [
    "# Example usage\n",
    "# m, n = 48, 18\n",
    "GCD(48, 18)"
   ]
  }
 ],
 "metadata": {
  "kernelspec": {
   "display_name": "Python 3",
   "language": "python",
   "name": "python3"
  },
  "language_info": {
   "codemirror_mode": {
    "name": "ipython",
    "version": 3
   },
   "file_extension": ".py",
   "mimetype": "text/x-python",
   "name": "python",
   "nbconvert_exporter": "python",
   "pygments_lexer": "ipython3",
   "version": "3.11.5"
  }
 },
 "nbformat": 4,
 "nbformat_minor": 2
}
