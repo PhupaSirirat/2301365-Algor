{
 "cells": [
  {
   "cell_type": "code",
   "execution_count": 85,
   "metadata": {},
   "outputs": [],
   "source": [
    "import matplotlib.pyplot as plt\n",
    "import numpy as np\n",
    "import time"
   ]
  },
  {
   "cell_type": "code",
   "execution_count": 86,
   "metadata": {},
   "outputs": [],
   "source": [
    "\n",
    "def is_prime(n):\n",
    "    operations = 0\n",
    "    if n < 2:\n",
    "        operations += 1\n",
    "        return False, operations\n",
    "    for i in range(2, int(n**0.5) + 1):\n",
    "        operations += 1\n",
    "        if n % i == 0:\n",
    "            operations += 1\n",
    "            return False, operations\n",
    "    operations += 1\n",
    "    return True, operations\n",
    "\n",
    "def prime_factorization(n):\n",
    "    factors = []\n",
    "    operations = 0\n",
    "    for i in range(2, n + 1):\n",
    "        is_prime_result, prime_ops = is_prime(i)\n",
    "        operations += prime_ops\n",
    "        operations += 1\n",
    "        if is_prime_result:\n",
    "            while n % i == 0:\n",
    "                operations += 1\n",
    "                factors.append(i)\n",
    "                n //= i\n",
    "            if n == 1:\n",
    "                break\n",
    "    return factors, operations\n",
    "\n",
    "def FindGCD1(m, n):\n",
    "    total_operations = 0\n",
    "    \n",
    "    # print(\"Step 1: Prime factorization of m\")\n",
    "    m_factors, m_ops = prime_factorization(m)\n",
    "    # print(f\"Factors of {m}: {m_factors}\")\n",
    "    # print(f\"Operations for Step 1: {m_ops}\")\n",
    "    total_operations += m_ops\n",
    "    \n",
    "    # print(\"\\nStep 2: Prime factorization of n\")\n",
    "    n_factors, n_ops = prime_factorization(n)\n",
    "    # print(f\"Factors of {n}: {n_factors}\")\n",
    "    # print(f\"Operations for Step 2: {n_ops}\")\n",
    "    total_operations += n_ops\n",
    "    \n",
    "    # print(\"\\nStep 3: Find common prime factors\")\n",
    "    common_factors = []\n",
    "    m_index = n_index = 0\n",
    "    step3_ops = 0\n",
    "    while m_index < len(m_factors) and n_index < len(n_factors):\n",
    "        step3_ops += 1\n",
    "        if m_factors[m_index] == n_factors[n_index]:\n",
    "            common_factors.append(m_factors[m_index])\n",
    "            m_index += 1\n",
    "            n_index += 1\n",
    "        elif m_factors[m_index] < n_factors[n_index]:\n",
    "            m_index += 1\n",
    "        else:\n",
    "            n_index += 1\n",
    "    # print(f\"Common factors: {common_factors}\")\n",
    "    # print(f\"Operations for Step 3: {step3_ops}\")\n",
    "    total_operations += step3_ops\n",
    "    \n",
    "    # print(\"\\nStep 4: Compute GCD\")\n",
    "    gcd = 1\n",
    "    step4_ops = 0\n",
    "    for factor in common_factors:\n",
    "        gcd *= factor\n",
    "        step4_ops += 1\n",
    "    # print(f\"GCD({m}, {n}) = {gcd}\")\n",
    "    # print(f\"Operations for Step 4: {step4_ops}\")\n",
    "    total_operations += step4_ops\n",
    "    \n",
    "    # print(f\"\\nTotal operations: {total_operations}\")\n",
    "    return gcd, total_operations"
   ]
  },
  {
   "cell_type": "code",
   "execution_count": 87,
   "metadata": {},
   "outputs": [],
   "source": [
    "def run_test_case(m, n):\n",
    "    start_time = time.time()\n",
    "    result, totalOperations = FindGCD1(m, n)\n",
    "    end_time = time.time()\n",
    "    execution_time = end_time - start_time\n",
    "    print(f\"GCD({m}, {n}) = {result}\")\n",
    "    print(f\"Execution time: {execution_time:.6f} seconds\")\n",
    "    print(f\"Total operations: {totalOperations}\")\n",
    "    print(\"-\" * 40)\n",
    "    return result, execution_time, totalOperations\n",
    "\n",
    "# Test cases\n",
    "test_cases = [\n",
    "    (30,15),\n",
    "    (20,72),\n",
    "    (72,88),\n",
    "    (58,77),\n",
    "    (92,80),\n",
    "    (286,544),\n",
    "    (985,716),\n",
    "    (839,433),\n",
    "    (471,561),\n",
    "    (269,749),\n",
    "    (1888,1224),\n",
    "    (3164,6996),\n",
    "    (6253,5431),\n",
    "    (4390,2874),\n",
    "    (5017,7615),\n",
    "    (76241,57606),\n",
    "    (74766,64553),\n",
    "    (12322,50440),\n",
    "    (34726,92155),\n",
    "    (14785,19817),\n",
    "    (672270,431511),\n",
    "    (694404,256785),\n",
    "    (975922,532283),\n",
    "    (279392,946230),\n",
    "    (906443,392685),\n",
    "    (2226412,8648878),\n",
    "    (6061228,5546440),\n",
    "    (1691980,1414558),\n",
    "    (3234496,7268362),\n",
    "    (8356954,3705742),\n",
    "    (81786288,61052652),\n",
    "    (21535993,91675657),\n",
    "    (26586591,78851391),\n",
    "    (68575643,45017255),\n",
    "    (45991767,77583796),\n",
    "]\n",
    "\n",
    "all_results = []\n",
    "all_execution_times = []\n",
    "all_total_operations = []"
   ]
  },
  {
   "cell_type": "code",
   "execution_count": 88,
   "metadata": {},
   "outputs": [
    {
     "name": "stdout",
     "output_type": "stream",
     "text": [
      "GCD(30, 15) = 15\n",
      "Execution time: 0.000018 seconds\n",
      "Total operations: 30\n",
      "----------------------------------------\n",
      "GCD(20, 72) = 4\n",
      "Execution time: 0.000008 seconds\n",
      "Total operations: 29\n",
      "----------------------------------------\n",
      "GCD(72, 88) = 8\n",
      "Execution time: 0.000010 seconds\n",
      "Total operations: 51\n",
      "----------------------------------------\n",
      "GCD(58, 77) = 1\n",
      "Execution time: 0.000022 seconds\n",
      "Total operations: 137\n",
      "----------------------------------------\n",
      "GCD(92, 80) = 4\n",
      "Execution time: 0.000013 seconds\n",
      "Total operations: 100\n",
      "----------------------------------------\n"
     ]
    }
   ],
   "source": [
    "# 10\n",
    "for i, (m, n) in enumerate(test_cases[0:5], 1):\n",
    "    result, execution_time, operations = run_test_case(m, n)\n",
    "    all_results.append(result)\n",
    "    all_execution_times.append(execution_time)\n",
    "    all_total_operations.append(operations)"
   ]
  },
  {
   "cell_type": "code",
   "execution_count": 89,
   "metadata": {},
   "outputs": [
    {
     "name": "stdout",
     "output_type": "stream",
     "text": [
      "GCD(286, 544) = 2\n",
      "Execution time: 0.000022 seconds\n",
      "Total operations: 106\n",
      "----------------------------------------\n",
      "GCD(985, 716) = 1\n",
      "Execution time: 0.000274 seconds\n",
      "Total operations: 1905\n",
      "----------------------------------------\n",
      "GCD(839, 433) = 1\n",
      "Execution time: 0.002626 seconds\n",
      "Total operations: 8469\n",
      "----------------------------------------\n",
      "GCD(471, 561) = 3\n",
      "Execution time: 0.000068 seconds\n",
      "Total operations: 821\n",
      "----------------------------------------\n",
      "GCD(269, 749) = 1\n",
      "Execution time: 0.000148 seconds\n",
      "Total operations: 1944\n",
      "----------------------------------------\n"
     ]
    }
   ],
   "source": [
    "# 100\n",
    "for i, (m, n) in enumerate(test_cases[5:10], 1):\n",
    "    result, execution_time, operations = run_test_case(m, n)\n",
    "    all_results.append(result)\n",
    "    all_execution_times.append(execution_time)\n",
    "    all_total_operations.append(operations)"
   ]
  },
  {
   "cell_type": "code",
   "execution_count": 90,
   "metadata": {},
   "outputs": [
    {
     "name": "stdout",
     "output_type": "stream",
     "text": [
      "GCD(1888, 1224) = 8\n",
      "Execution time: 0.000032 seconds\n",
      "Total operations: 310\n",
      "----------------------------------------\n",
      "GCD(3164, 6996) = 4\n",
      "Execution time: 0.000057 seconds\n",
      "Total operations: 740\n",
      "----------------------------------------\n",
      "GCD(6253, 5431) = 1\n",
      "Execution time: 0.005851 seconds\n",
      "Total operations: 62361\n",
      "----------------------------------------\n",
      "GCD(4390, 2874) = 2\n",
      "Execution time: 0.000311 seconds\n",
      "Total operations: 5621\n",
      "----------------------------------------\n",
      "GCD(5017, 7615) = 1\n",
      "Execution time: 0.000636 seconds\n",
      "Total operations: 13219\n",
      "----------------------------------------\n"
     ]
    }
   ],
   "source": [
    "# 1,000\n",
    "for i, (m, n) in enumerate(test_cases[10:15], 1):\n",
    "    result, execution_time, operations = run_test_case(m, n)\n",
    "    all_results.append(result)\n",
    "    all_execution_times.append(execution_time)\n",
    "    all_total_operations.append(operations)"
   ]
  },
  {
   "cell_type": "code",
   "execution_count": 91,
   "metadata": {},
   "outputs": [
    {
     "name": "stdout",
     "output_type": "stream",
     "text": [
      "GCD(76241, 57606) = 1\n",
      "Execution time: 0.004808 seconds\n",
      "Total operations: 131750\n",
      "----------------------------------------\n",
      "GCD(74766, 64553) = 1\n",
      "Execution time: 0.050035 seconds\n",
      "Total operations: 1634599\n",
      "----------------------------------------\n",
      "GCD(12322, 50440) = 2\n",
      "Execution time: 0.000057 seconds\n",
      "Total operations: 886\n",
      "----------------------------------------\n",
      "GCD(34726, 92155) = 1\n",
      "Execution time: 0.001118 seconds\n",
      "Total operations: 25511\n",
      "----------------------------------------\n",
      "GCD(14785, 19817) = 1\n",
      "Execution time: 0.001184 seconds\n",
      "Total operations: 29341\n",
      "----------------------------------------\n"
     ]
    }
   ],
   "source": [
    "# 10,000\n",
    "for i, (m, n) in enumerate(test_cases[15:20], 1):\n",
    "    result, execution_time, operations = run_test_case(m, n)\n",
    "    all_results.append(result)\n",
    "    all_execution_times.append(execution_time)\n",
    "    all_total_operations.append(operations)"
   ]
  },
  {
   "cell_type": "code",
   "execution_count": 92,
   "metadata": {},
   "outputs": [
    {
     "name": "stdout",
     "output_type": "stream",
     "text": [
      "GCD(672270, 431511) = 3\n",
      "Execution time: 0.018085 seconds\n",
      "Total operations: 507434\n",
      "----------------------------------------\n",
      "GCD(694404, 256785) = 3\n",
      "Execution time: 0.011020 seconds\n",
      "Total operations: 325015\n",
      "----------------------------------------\n",
      "GCD(975922, 532283) = 1\n",
      "Execution time: 0.939643 seconds\n",
      "Total operations: 29188080\n",
      "----------------------------------------\n",
      "GCD(279392, 946230) = 2\n",
      "Execution time: 0.023925 seconds\n",
      "Total operations: 739356\n",
      "----------------------------------------\n",
      "GCD(906443, 392685) = 1\n",
      "Execution time: 0.000230 seconds\n",
      "Total operations: 4342\n",
      "----------------------------------------\n"
     ]
    }
   ],
   "source": [
    "# 100,000\n",
    "for i, (m, n) in enumerate(test_cases[20:25], 1):\n",
    "    result, execution_time, operations = run_test_case(m, n)\n",
    "    all_results.append(result)\n",
    "    all_execution_times.append(execution_time)\n",
    "    all_total_operations.append(operations)"
   ]
  },
  {
   "cell_type": "code",
   "execution_count": 93,
   "metadata": {},
   "outputs": [
    {
     "name": "stdout",
     "output_type": "stream",
     "text": [
      "GCD(2226412, 8648878) = 2\n",
      "Execution time: 1.166898 seconds\n",
      "Total operations: 35794894\n",
      "----------------------------------------\n",
      "GCD(6061228, 5546440) = 4\n",
      "Execution time: 0.135187 seconds\n",
      "Total operations: 4595791\n",
      "----------------------------------------\n",
      "GCD(1691980, 1414558) = 2\n",
      "Execution time: 1.496107 seconds\n",
      "Total operations: 43146378\n",
      "----------------------------------------\n",
      "GCD(3234496, 7268362) = 2\n",
      "Execution time: 0.097957 seconds\n",
      "Total operations: 3251599\n",
      "----------------------------------------\n",
      "GCD(8356954, 3705742) = 2\n",
      "Execution time: 0.003261 seconds\n",
      "Total operations: 84763\n",
      "----------------------------------------\n"
     ]
    }
   ],
   "source": [
    "# 1,000,000\n",
    "for i, (m, n) in enumerate(test_cases[25:30], 1):\n",
    "    result, execution_time, operations = run_test_case(m, n)\n",
    "    all_results.append(result)\n",
    "    all_execution_times.append(execution_time)\n",
    "    all_total_operations.append(operations)"
   ]
  },
  {
   "cell_type": "code",
   "execution_count": 94,
   "metadata": {},
   "outputs": [
    {
     "name": "stdout",
     "output_type": "stream",
     "text": [
      "GCD(81786288, 61052652) = 12\n",
      "Execution time: 0.003803 seconds\n",
      "Total operations: 79129\n",
      "----------------------------------------\n",
      "GCD(21535993, 91675657) = 1\n",
      "Execution time: 201.965938 seconds\n",
      "Total operations: 5291512121\n",
      "----------------------------------------\n",
      "GCD(26586591, 78851391) = 3\n",
      "Execution time: 0.443707 seconds\n",
      "Total operations: 14239882\n",
      "----------------------------------------\n",
      "GCD(68575643, 45017255) = 1\n",
      "Execution time: 0.011954 seconds\n",
      "Total operations: 360389\n",
      "----------------------------------------\n",
      "GCD(45991767, 77583796) = 1\n",
      "Execution time: 170.034343 seconds\n",
      "Total operations: 4516477370\n",
      "----------------------------------------\n"
     ]
    }
   ],
   "source": [
    "# 10,000,000\n",
    "for i, (m, n) in enumerate(test_cases[30::], 1):\n",
    "    result, execution_time, operations = run_test_case(m, n)\n",
    "    all_results.append(result)\n",
    "    all_execution_times.append(execution_time)\n",
    "    all_total_operations.append(operations)"
   ]
  },
  {
   "cell_type": "code",
   "execution_count": 95,
   "metadata": {},
   "outputs": [
    {
     "name": "stdout",
     "output_type": "stream",
     "text": [
      "[30, 29, 51, 137, 100, 106, 1905, 8469, 821, 1944, 310, 740, 62361, 5621, 13219, 131750, 1634599, 886, 25511, 29341, 507434, 325015, 29188080, 739356, 4342, 35794894, 4595791, 43146378, 3251599, 84763, 79129, 5291512121, 14239882, 360389, 4516477370]\n",
      "35\n",
      "[69.4, 2649.0, 16450.2, 364417.4, 6152845.4, 17374685.0, 1964533778.2]\n"
     ]
    }
   ],
   "source": [
    "print(all_total_operations)\n",
    "print(len(all_total_operations))\n",
    "\n",
    "mean_operations_10 = np.mean(all_total_operations[0:5])\n",
    "mean_operations_100 = np.mean(all_total_operations[5:10])\n",
    "mean_operations_1k = np.mean(all_total_operations[10:15])\n",
    "mean_operations_10k = np.mean(all_total_operations[15:20])\n",
    "mean_operations_100k = np.mean(all_total_operations[20:25])\n",
    "mean_operations_1m = np.mean(all_total_operations[25:30])\n",
    "mean_operations_10m = np.mean(all_total_operations[30::])\n",
    "\n",
    "mean_operations = [mean_operations_10, mean_operations_100, mean_operations_1k, mean_operations_10k, mean_operations_100k, mean_operations_1m, mean_operations_10m]\n",
    "print(mean_operations)"
   ]
  },
  {
   "cell_type": "code",
   "execution_count": 96,
   "metadata": {},
   "outputs": [
    {
     "data": {
      "image/png": "[encoded data removed]",
      "text/plain": [
       "<Figure size 640x480 with 1 Axes>"
      ]
     },
     "metadata": {},
     "output_type": "display_data"
    }
   ],
   "source": [
    "# Plot results\n",
    "# xpoints = np.array([i for i in range(1, len(test_cases) + 1)])\n",
    "xpoints = np.array([\"10\", \"100\", \"1k\", \"10k\", \"100k\", \"1m\", \"10m\"])\n",
    "ypoints = np.array(mean_operations)\n",
    "\n",
    "plt.title(\"GCD Naive\")\n",
    "plt.xlabel(\"Data size\")\n",
    "plt.ylabel(\"Operations\")\n",
    "\n",
    "plt.plot(xpoints, ypoints)\n",
    "plt.show()"
   ]
  },
  {
   "cell_type": "code",
   "execution_count": 100,
   "metadata": {},
   "outputs": [
    {
     "data": {
      "image/png": "[encoded data removed]",
      "text/plain": [
       "<Figure size 640x480 with 1 Axes>"
      ]
     },
     "metadata": {},
     "output_type": "display_data"
    }
   ],
   "source": [
    "xpoints = np.array([\"10\", \"100\", \"1k\", \"10k\", \"100k\", \"1m\"])\n",
    "ypoints = np.array(mean_operations[0:6])\n",
    "plt.title(\"GCD Naive\")\n",
    "plt.xlabel(\"Data size\")\n",
    "plt.ylabel(\"Operations\")\n",
    "\n",
    "plt.bar(xpoints, ypoints)\n",
    "plt.show()"
   ]
  }
 ],
 "metadata": {
  "kernelspec": {
   "display_name": "Python 3",
   "language": "python",
   "name": "python3"
  },
  "language_info": {
   "codemirror_mode": {
    "name": "ipython",
    "version": 3
   },
   "file_extension": ".py",
   "mimetype": "text/x-python",
   "name": "python",
   "nbconvert_exporter": "python",
   "pygments_lexer": "ipython3",
   "version": "3.11.5"
  }
 },
 "nbformat": 4,
 "nbformat_minor": 2
}
