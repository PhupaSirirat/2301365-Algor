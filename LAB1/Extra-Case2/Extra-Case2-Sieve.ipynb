{
 "cells": [
  {
   "cell_type": "code",
   "execution_count": 24,
   "metadata": {},
   "outputs": [],
   "source": [
    "import matplotlib.pyplot as plt\n",
    "import numpy as np\n",
    "import time"
   ]
  },
  {
   "cell_type": "code",
   "execution_count": 25,
   "metadata": {},
   "outputs": [],
   "source": [
    "def sieve_of_eratosthenes(n):\n",
    "    primes = [True] * (n + 1)\n",
    "    primes[0] = primes[1] = False\n",
    "    operations = 0\n",
    "    \n",
    "    for i in range(2, int(n**0.5) + 1):\n",
    "        operations += 1  # Comparison in for loop\n",
    "        if primes[i]:\n",
    "            for j in range(i*i, n + 1, i):\n",
    "                operations += 1  # Assignment in inner loop\n",
    "                primes[j] = False\n",
    "    \n",
    "    return primes, operations\n",
    "\n",
    "def prime_factorization(n, primes):\n",
    "    factors = []\n",
    "    operations = 0\n",
    "    for i in range(2, n + 1):\n",
    "        operations += 1  # Comparison in for loop\n",
    "        if primes[i]:\n",
    "            while n % i == 0:\n",
    "                operations += 2  # Modulo operation and comparison\n",
    "                factors.append(i)\n",
    "                n //= i\n",
    "        if n == 1:\n",
    "            break\n",
    "    return factors, operations\n",
    "\n",
    "def FindGCD2(m, n):\n",
    "    total_operations = 0\n",
    "    \n",
    "    # Generate primes up to max(m, n)\n",
    "    max_num = max(m, n)\n",
    "    primes, sieve_ops = sieve_of_eratosthenes(max_num)\n",
    "    total_operations += sieve_ops\n",
    "    # print(f\"Sieve operations: {sieve_ops}\")\n",
    "    \n",
    "    # Step 1: Find the prime factorization of m\n",
    "    # print(\"Step 1: Prime factorization of m\")\n",
    "    m_factors, m_ops = prime_factorization(m, primes)\n",
    "    # print(f\"Factors of {m}: {m_factors}\")\n",
    "    # print(f\"Operations for Step 1: {m_ops}\")\n",
    "    total_operations += m_ops\n",
    "    \n",
    "    # Step 2: Find the prime factorization of n\n",
    "    # print(\"\\nStep 2: Prime factorization of n\")\n",
    "    n_factors, n_ops = prime_factorization(n, primes)\n",
    "    # print(f\"Factors of {n}: {n_factors}\")\n",
    "    # print(f\"Operations for Step 2: {n_ops}\")\n",
    "    total_operations += n_ops\n",
    "    \n",
    "    # Step 3: Find all the common prime factors\n",
    "    # print(\"\\nStep 3: Find common prime factors\")\n",
    "    common_factors = []\n",
    "    m_index = n_index = 0\n",
    "    step3_ops = 0\n",
    "    while m_index < len(m_factors) and n_index < len(n_factors):\n",
    "        step3_ops += 1  # Comparison\n",
    "        if m_factors[m_index] == n_factors[n_index]:\n",
    "            common_factors.append(m_factors[m_index])\n",
    "            m_index += 1\n",
    "            n_index += 1\n",
    "        elif m_factors[m_index] < n_factors[n_index]:\n",
    "            m_index += 1\n",
    "        else:\n",
    "            n_index += 1\n",
    "    # print(f\"Common factors: {common_factors}\")\n",
    "    # print(f\"Operations for Step 3: {step3_ops}\")\n",
    "    total_operations += step3_ops\n",
    "    \n",
    "    # Step 4: Compute the product of all the common prime factors\n",
    "    # print(\"\\nStep 4: Compute GCD\")\n",
    "    gcd = 1\n",
    "    step4_ops = 0\n",
    "    for factor in common_factors:\n",
    "        gcd *= factor\n",
    "        step4_ops += 1  # Multiplication\n",
    "    # print(f\"GCD({m}, {n}) = {gcd}\")\n",
    "    # print(f\"Operations for Step 4: {step4_ops}\")\n",
    "    total_operations += step4_ops\n",
    "    \n",
    "    # print(f\"\\nTotal operations: {total_operations}\")\n",
    "    return gcd, total_operations"
   ]
  },
  {
   "cell_type": "code",
   "execution_count": 26,
   "metadata": {},
   "outputs": [],
   "source": [
    "def run_test_case(m, n):\n",
    "    start_time = time.time()\n",
    "    result, totalOperations = FindGCD2(m, n)\n",
    "    end_time = time.time()\n",
    "    execution_time = end_time - start_time\n",
    "    print(f\"GCD({m}, {n}) = {result}\")\n",
    "    print(f\"Execution time: {execution_time:.6f} seconds\")\n",
    "    print(f\"Total operations: {totalOperations}\")\n",
    "    print(\"-\" * 40)\n",
    "    return result, execution_time, totalOperations\n",
    "\n",
    "# Test cases\n",
    "test_cases = [\n",
    "    (30,15),\n",
    "    (20,72),\n",
    "    (72,88),\n",
    "    (58,77),\n",
    "    (92,80),\n",
    "    (286,544),\n",
    "    (985,716),\n",
    "    (839,433),\n",
    "    (471,561),\n",
    "    (269,749),\n",
    "    (1888,1224),\n",
    "    (3164,6996),\n",
    "    (6253,5431),\n",
    "    (4390,2874),\n",
    "    (5017,7615),\n",
    "    (76241,57606),\n",
    "    (74766,64553),\n",
    "    (12322,50440),\n",
    "    (34726,92155),\n",
    "    (14785,19817),\n",
    "    (672270,431511),\n",
    "    (694404,256785),\n",
    "    (975922,532283),\n",
    "    (279392,946230),\n",
    "    (906443,392685),\n",
    "    (2226412,8648878),\n",
    "    (6061228,5546440),\n",
    "    (1691980,1414558),\n",
    "    (3234496,7268362),\n",
    "    (8356954,3705742),\n",
    "    (81786288,61052652),\n",
    "    (21535993,91675657),\n",
    "    (26586591,78851391),\n",
    "    (68575643,45017255),\n",
    "    (45991767,77583796),\n",
    "]\n",
    "\n",
    "all_results = []\n",
    "all_execution_times = []\n",
    "all_total_operations = []"
   ]
  },
  {
   "cell_type": "code",
   "execution_count": 27,
   "metadata": {},
   "outputs": [
    {
     "name": "stdout",
     "output_type": "stream",
     "text": [
      "GCD(30, 15) = 15\n",
      "Execution time: 0.000037 seconds\n",
      "Total operations: 51\n",
      "----------------------------------------\n",
      "GCD(20, 72) = 4\n",
      "Execution time: 0.000020 seconds\n",
      "Total operations: 107\n",
      "----------------------------------------\n",
      "GCD(72, 88) = 8\n",
      "Execution time: 0.000016 seconds\n",
      "Total operations: 135\n",
      "----------------------------------------\n",
      "GCD(58, 77) = 1\n",
      "Execution time: 0.000014 seconds\n",
      "Total operations: 132\n",
      "----------------------------------------\n",
      "GCD(92, 80) = 4\n",
      "Execution time: 0.000026 seconds\n",
      "Total operations: 151\n",
      "----------------------------------------\n"
     ]
    }
   ],
   "source": [
    "# 10\n",
    "for i, (m, n) in enumerate(test_cases[0:5], 1):\n",
    "    result, execution_time, operations = run_test_case(m, n)\n",
    "    all_results.append(result)\n",
    "    all_execution_times.append(execution_time)\n",
    "    all_total_operations.append(operations)"
   ]
  },
  {
   "cell_type": "code",
   "execution_count": 28,
   "metadata": {},
   "outputs": [
    {
     "name": "stdout",
     "output_type": "stream",
     "text": [
      "GCD(286, 544) = 2\n",
      "Execution time: 0.000028 seconds\n",
      "Total operations: 796\n",
      "----------------------------------------\n",
      "GCD(985, 716) = 1\n",
      "Execution time: 0.000059 seconds\n",
      "Total operations: 1804\n",
      "----------------------------------------\n",
      "GCD(839, 433) = 1\n",
      "Execution time: 0.000075 seconds\n",
      "Total operations: 2464\n",
      "----------------------------------------\n",
      "GCD(471, 561) = 3\n",
      "Execution time: 0.000026 seconds\n",
      "Total operations: 956\n",
      "----------------------------------------\n",
      "GCD(269, 749) = 1\n",
      "Execution time: 0.000038 seconds\n",
      "Total operations: 1436\n",
      "----------------------------------------\n"
     ]
    }
   ],
   "source": [
    "# 100\n",
    "for i, (m, n) in enumerate(test_cases[5:10], 1):\n",
    "    result, execution_time, operations = run_test_case(m, n)\n",
    "    all_results.append(result)\n",
    "    all_execution_times.append(execution_time)\n",
    "    all_total_operations.append(operations)"
   ]
  },
  {
   "cell_type": "code",
   "execution_count": 29,
   "metadata": {},
   "outputs": [
    {
     "name": "stdout",
     "output_type": "stream",
     "text": [
      "GCD(1888, 1224) = 8\n",
      "Execution time: 0.000086 seconds\n",
      "Total operations: 2976\n",
      "----------------------------------------\n",
      "GCD(3164, 6996) = 4\n",
      "Execution time: 0.001413 seconds\n",
      "Total operations: 11874\n",
      "----------------------------------------\n",
      "GCD(6253, 5431) = 1\n",
      "Execution time: 0.001025 seconds\n",
      "Total operations: 15839\n",
      "----------------------------------------\n",
      "GCD(4390, 2874) = 2\n",
      "Execution time: 0.000344 seconds\n",
      "Total operations: 8032\n",
      "----------------------------------------\n",
      "GCD(5017, 7615) = 1\n",
      "Execution time: 0.000511 seconds\n",
      "Total operations: 14493\n",
      "----------------------------------------\n"
     ]
    }
   ],
   "source": [
    "# 1,000\n",
    "for i, (m, n) in enumerate(test_cases[10:15], 1):\n",
    "    result, execution_time, operations = run_test_case(m, n)\n",
    "    all_results.append(result)\n",
    "    all_execution_times.append(execution_time)\n",
    "    all_total_operations.append(operations)"
   ]
  },
  {
   "cell_type": "code",
   "execution_count": 30,
   "metadata": {},
   "outputs": [
    {
     "name": "stdout",
     "output_type": "stream",
     "text": [
      "GCD(76241, 57606) = 1\n",
      "Execution time: 0.004115 seconds\n",
      "Total operations: 155403\n",
      "----------------------------------------\n",
      "GCD(74766, 64553) = 1\n",
      "Execution time: 0.005932 seconds\n",
      "Total operations: 207894\n",
      "----------------------------------------\n",
      "GCD(12322, 50440) = 2\n",
      "Execution time: 0.002442 seconds\n",
      "Total operations: 94588\n",
      "----------------------------------------\n",
      "GCD(34726, 92155) = 1\n",
      "Execution time: 0.004694 seconds\n",
      "Total operations: 180377\n",
      "----------------------------------------\n",
      "GCD(14785, 19817) = 1\n",
      "Execution time: 0.000979 seconds\n",
      "Total operations: 38399\n",
      "----------------------------------------\n"
     ]
    }
   ],
   "source": [
    "# 10,000\n",
    "for i, (m, n) in enumerate(test_cases[15:20], 1):\n",
    "    result, execution_time, operations = run_test_case(m, n)\n",
    "    all_results.append(result)\n",
    "    all_execution_times.append(execution_time)\n",
    "    all_total_operations.append(operations)"
   ]
  },
  {
   "cell_type": "code",
   "execution_count": 31,
   "metadata": {},
   "outputs": [
    {
     "name": "stdout",
     "output_type": "stream",
     "text": [
      "GCD(672270, 431511) = 3\n",
      "Execution time: 0.038917 seconds\n",
      "Total operations: 1437648\n",
      "----------------------------------------\n",
      "GCD(694404, 256785) = 3\n",
      "Execution time: 0.044077 seconds\n",
      "Total operations: 1474192\n",
      "----------------------------------------\n",
      "GCD(975922, 532283) = 1\n",
      "Execution time: 0.079919 seconds\n",
      "Total operations: 2609703\n",
      "----------------------------------------\n",
      "GCD(279392, 946230) = 2\n",
      "Execution time: 0.061223 seconds\n",
      "Total operations: 2045223\n",
      "----------------------------------------\n",
      "GCD(906443, 392685) = 1\n",
      "Execution time: 0.054616 seconds\n",
      "Total operations: 1918420\n",
      "----------------------------------------\n"
     ]
    }
   ],
   "source": [
    "# 100,000\n",
    "for i, (m, n) in enumerate(test_cases[20:25], 1):\n",
    "    result, execution_time, operations = run_test_case(m, n)\n",
    "    all_results.append(result)\n",
    "    all_execution_times.append(execution_time)\n",
    "    all_total_operations.append(operations)"
   ]
  },
  {
   "cell_type": "code",
   "execution_count": 32,
   "metadata": {},
   "outputs": [
    {
     "name": "stdout",
     "output_type": "stream",
     "text": [
      "GCD(2226412, 8648878) = 2\n",
      "Execution time: 0.953327 seconds\n",
      "Total operations: 20303644\n",
      "----------------------------------------\n",
      "GCD(6061228, 5546440) = 4\n",
      "Execution time: 0.598471 seconds\n",
      "Total operations: 13789469\n",
      "----------------------------------------\n",
      "GCD(1691980, 1414558) = 2\n",
      "Execution time: 0.123464 seconds\n",
      "Total operations: 4368776\n",
      "----------------------------------------\n",
      "GCD(3234496, 7268362) = 2\n",
      "Execution time: 0.740882 seconds\n",
      "Total operations: 16584609\n",
      "----------------------------------------\n",
      "GCD(8356954, 3705742) = 2\n",
      "Execution time: 0.888098 seconds\n",
      "Total operations: 19007278\n",
      "----------------------------------------\n"
     ]
    }
   ],
   "source": [
    "# 1,000,000\n",
    "for i, (m, n) in enumerate(test_cases[25:30], 1):\n",
    "    result, execution_time, operations = run_test_case(m, n)\n",
    "    all_results.append(result)\n",
    "    all_execution_times.append(execution_time)\n",
    "    all_total_operations.append(operations)"
   ]
  },
  {
   "cell_type": "code",
   "execution_count": 33,
   "metadata": {},
   "outputs": [
    {
     "name": "stdout",
     "output_type": "stream",
     "text": [
      "GCD(81786288, 61052652) = 12\n",
      "Execution time: 11.615018 seconds\n",
      "Total operations: 197457661\n",
      "----------------------------------------\n",
      "GCD(21535993, 91675657) = 1\n",
      "Execution time: 13.864387 seconds\n",
      "Total operations: 244275797\n",
      "----------------------------------------\n",
      "GCD(26586591, 78851391) = 3\n",
      "Execution time: 11.085349 seconds\n",
      "Total operations: 190538379\n",
      "----------------------------------------\n",
      "GCD(68575643, 45017255) = 1\n",
      "Execution time: 9.362239 seconds\n",
      "Total operations: 164879290\n",
      "----------------------------------------\n",
      "GCD(45991767, 77583796) = 1\n",
      "Execution time: 11.784020 seconds\n",
      "Total operations: 206481834\n",
      "----------------------------------------\n"
     ]
    }
   ],
   "source": [
    "# 10,000,000\n",
    "for i, (m, n) in enumerate(test_cases[30::], 1):\n",
    "    result, execution_time, operations = run_test_case(m, n)\n",
    "    all_results.append(result)\n",
    "    all_execution_times.append(execution_time)\n",
    "    all_total_operations.append(operations)"
   ]
  },
  {
   "cell_type": "code",
   "execution_count": 34,
   "metadata": {},
   "outputs": [
    {
     "name": "stdout",
     "output_type": "stream",
     "text": [
      "[51, 107, 135, 132, 151, 796, 1804, 2464, 956, 1436, 2976, 11874, 15839, 8032, 14493, 155403, 207894, 94588, 180377, 38399, 1437648, 1474192, 2609703, 2045223, 1918420, 20303644, 13789469, 4368776, 16584609, 19007278, 197457661, 244275797, 190538379, 164879290, 206481834]\n",
      "35\n",
      "[115.2, 1491.2, 10642.8, 135332.2, 1897037.2, 14810755.2, 200726592.2]\n"
     ]
    }
   ],
   "source": [
    "print(all_total_operations)\n",
    "print(len(all_total_operations))\n",
    "\n",
    "mean_operations_10 = np.mean(all_total_operations[0:5])\n",
    "mean_operations_100 = np.mean(all_total_operations[5:10])\n",
    "mean_operations_1k = np.mean(all_total_operations[10:15])\n",
    "mean_operations_10k = np.mean(all_total_operations[15:20])\n",
    "mean_operations_100k = np.mean(all_total_operations[20:25])\n",
    "mean_operations_1m = np.mean(all_total_operations[25:30])\n",
    "mean_operations_10m = np.mean(all_total_operations[30::])\n",
    "\n",
    "mean_operations = [mean_operations_10, mean_operations_100, mean_operations_1k, mean_operations_10k, mean_operations_100k, mean_operations_1m, mean_operations_10m]\n",
    "print(mean_operations)"
   ]
  },
  {
   "cell_type": "code",
   "execution_count": 35,
   "metadata": {},
   "outputs": [
    {
     "data": {
      "image/png": "[encoded data removed]",
      "text/plain": [
       "<Figure size 640x480 with 1 Axes>"
      ]
     },
     "metadata": {},
     "output_type": "display_data"
    }
   ],
   "source": [
    "# Plot results\n",
    "# xpoints = np.array([i for i in range(1, len(test_cases) + 1)])\n",
    "xpoints = np.array([\"10\", \"100\", \"1k\", \"10k\", \"100k\", \"1m\", \"10m\"])\n",
    "ypoints = np.array(mean_operations)\n",
    "\n",
    "plt.title(\"GCD Sieve of Eratosthenes\")\n",
    "plt.xlabel(\"Data size\")\n",
    "plt.ylabel(\"Operations\")\n",
    "\n",
    "plt.plot(xpoints, ypoints)\n",
    "plt.show()"
   ]
  }
 ],
 "metadata": {
  "kernelspec": {
   "display_name": "Python 3",
   "language": "python",
   "name": "python3"
  },
  "language_info": {
   "codemirror_mode": {
    "name": "ipython",
    "version": 3
   },
   "file_extension": ".py",
   "mimetype": "text/x-python",
   "name": "python",
   "nbconvert_exporter": "python",
   "pygments_lexer": "ipython3",
   "version": "3.11.5"
  }
 },
 "nbformat": 4,
 "nbformat_minor": 2
}
