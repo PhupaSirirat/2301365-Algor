{
 "cells": [
  {
   "cell_type": "code",
   "execution_count": 1,
   "metadata": {},
   "outputs": [],
   "source": [
    "import time"
   ]
  },
  {
   "cell_type": "code",
   "execution_count": 2,
   "metadata": {},
   "outputs": [],
   "source": [
    "def sieve_of_eratosthenes(n):\n",
    "    primes = [True] * (n + 1)\n",
    "    primes[0] = primes[1] = False\n",
    "    operations = 0\n",
    "    \n",
    "    for i in range(2, int(n**0.5) + 1):\n",
    "        operations += 1  # Comparison in for loop\n",
    "        if primes[i]:\n",
    "            for j in range(i*i, n + 1, i):\n",
    "                operations += 1  # Assignment in inner loop\n",
    "                primes[j] = False\n",
    "    \n",
    "    return primes, operations\n",
    "\n",
    "def prime_factorization(n, primes):\n",
    "    factors = []\n",
    "    operations = 0\n",
    "    for i in range(2, n + 1):\n",
    "        operations += 1  # Comparison in for loop\n",
    "        if primes[i]:\n",
    "            while n % i == 0:\n",
    "                operations += 2  # Modulo operation and comparison\n",
    "                factors.append(i)\n",
    "                n //= i\n",
    "        if n == 1:\n",
    "            break\n",
    "    return factors, operations\n",
    "\n",
    "def FindGCD2(m, n):\n",
    "    total_operations = 0\n",
    "    \n",
    "    # Generate primes up to max(m, n)\n",
    "    max_num = max(m, n)\n",
    "    primes, sieve_ops = sieve_of_eratosthenes(max_num)\n",
    "    total_operations += sieve_ops\n",
    "    print(f\"Sieve operations: {sieve_ops}\")\n",
    "    \n",
    "    # Step 1: Find the prime factorization of m\n",
    "    print(\"Step 1: Prime factorization of m\")\n",
    "    m_factors, m_ops = prime_factorization(m, primes)\n",
    "    print(f\"Factors of {m}: {m_factors}\")\n",
    "    print(f\"Operations for Step 1: {m_ops}\")\n",
    "    total_operations += m_ops\n",
    "    \n",
    "    # Step 2: Find the prime factorization of n\n",
    "    print(\"\\nStep 2: Prime factorization of n\")\n",
    "    n_factors, n_ops = prime_factorization(n, primes)\n",
    "    print(f\"Factors of {n}: {n_factors}\")\n",
    "    print(f\"Operations for Step 2: {n_ops}\")\n",
    "    total_operations += n_ops\n",
    "    \n",
    "    # Step 3: Find all the common prime factors\n",
    "    print(\"\\nStep 3: Find common prime factors\")\n",
    "    common_factors = []\n",
    "    m_index = n_index = 0\n",
    "    step3_ops = 0\n",
    "    while m_index < len(m_factors) and n_index < len(n_factors):\n",
    "        step3_ops += 1  # Comparison\n",
    "        if m_factors[m_index] == n_factors[n_index]:\n",
    "            common_factors.append(m_factors[m_index])\n",
    "            m_index += 1\n",
    "            n_index += 1\n",
    "        elif m_factors[m_index] < n_factors[n_index]:\n",
    "            m_index += 1\n",
    "        else:\n",
    "            n_index += 1\n",
    "    print(f\"Common factors: {common_factors}\")\n",
    "    print(f\"Operations for Step 3: {step3_ops}\")\n",
    "    total_operations += step3_ops\n",
    "    \n",
    "    # Step 4: Compute the product of all the common prime factors\n",
    "    print(\"\\nStep 4: Compute GCD\")\n",
    "    gcd = 1\n",
    "    step4_ops = 0\n",
    "    for factor in common_factors:\n",
    "        gcd *= factor\n",
    "        step4_ops += 1  # Multiplication\n",
    "    print(f\"GCD({m}, {n}) = {gcd}\")\n",
    "    print(f\"Operations for Step 4: {step4_ops}\")\n",
    "    total_operations += step4_ops\n",
    "    \n",
    "    print(f\"\\nTotal operations: {total_operations}\")\n",
    "    return gcd, total_operations"
   ]
  },
  {
   "cell_type": "code",
   "execution_count": 3,
   "metadata": {},
   "outputs": [],
   "source": [
    "def GCD(m, n):\n",
    "    start_time = time.time()\n",
    "    result, totalOperations = FindGCD2(m, n)\n",
    "    end_time = time.time()\n",
    "    execution_time = end_time - start_time\n",
    "    print(f\"Execution time: {execution_time:.6f} seconds\")"
   ]
  },
  {
   "cell_type": "code",
   "execution_count": 4,
   "metadata": {},
   "outputs": [
    {
     "name": "stdout",
     "output_type": "stream",
     "text": [
      "Sieve operations: 47\n",
      "Step 1: Prime factorization of m\n",
      "Factors of 48: [2, 2, 2, 2, 3]\n",
      "Operations for Step 1: 12\n",
      "\n",
      "Step 2: Prime factorization of n\n",
      "Factors of 18: [2, 3, 3]\n",
      "Operations for Step 2: 8\n",
      "\n",
      "Step 3: Find common prime factors\n",
      "Common factors: [2, 3]\n",
      "Operations for Step 3: 5\n",
      "\n",
      "Step 4: Compute GCD\n",
      "GCD(48, 18) = 6\n",
      "Operations for Step 4: 2\n",
      "\n",
      "Total operations: 74\n",
      "Execution time: 0.000044 seconds\n"
     ]
    }
   ],
   "source": [
    "# Example usage\n",
    "# m, n = 48, 18\n",
    "GCD(48, 18)"
   ]
  }
 ],
 "metadata": {
  "kernelspec": {
   "display_name": "Python 3",
   "language": "python",
   "name": "python3"
  },
  "language_info": {
   "codemirror_mode": {
    "name": "ipython",
    "version": 3
   },
   "file_extension": ".py",
   "mimetype": "text/x-python",
   "name": "python",
   "nbconvert_exporter": "python",
   "pygments_lexer": "ipython3",
   "version": "3.11.5"
  }
 },
 "nbformat": 4,
 "nbformat_minor": 2
}
