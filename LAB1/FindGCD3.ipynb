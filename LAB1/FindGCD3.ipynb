{
 "cells": [
  {
   "cell_type": "code",
   "execution_count": 1,
   "metadata": {},
   "outputs": [],
   "source": [
    "import time"
   ]
  },
  {
   "cell_type": "code",
   "execution_count": 2,
   "metadata": {},
   "outputs": [],
   "source": [
    "def FindGCD3(m, n, depth=0):\n",
    "    operations = 1  # Count the comparison operation\n",
    "\n",
    "    # For debugging and visualization of recursion\n",
    "    indent = \"  \" * depth\n",
    "    print(f\"{indent}Computing GCD({m}, {n})\")\n",
    "\n",
    "    if n == 0:\n",
    "        print(f\"{indent}n = 0, returning {m}\")\n",
    "        return m, operations\n",
    "    elif m == 0:\n",
    "        print(f\"{indent}m = 0, returning {n}\")\n",
    "        return n, operations\n",
    "    elif m == n:\n",
    "        print(f\"{indent}m = n, returning {m}\")\n",
    "        return m, operations\n",
    "    elif m > n:\n",
    "        operations += 1  # Count the modulo operation\n",
    "        remainder = m % n\n",
    "        print(f\"{indent}m > n, recursive call: GCD({n}, {remainder})\")\n",
    "        result, sub_operations = FindGCD3(n, remainder, depth + 1)\n",
    "        return result, operations + sub_operations\n",
    "    else:  # m < n\n",
    "        operations += 1  # Count the modulo operation\n",
    "        remainder = n % m\n",
    "        print(f\"{indent}m < n, recursive call: GCD({m}, {remainder})\")\n",
    "        result, sub_operations = FindGCD3(m, remainder, depth + 1)\n",
    "        return result, operations + sub_operations"
   ]
  },
  {
   "cell_type": "code",
   "execution_count": 3,
   "metadata": {},
   "outputs": [],
   "source": [
    "def GCD(m, n):\n",
    "    print(f\"Finding GCD of {m} and {n}\")\n",
    "    start_time = time.time()\n",
    "    result, total_operations = FindGCD3(m, n)\n",
    "    end_time = time.time()\n",
    "\n",
    "    execution_time = end_time - start_time\n",
    "    print(f\"\\nGCD({m}, {n}) = {result}\")\n",
    "    print(f\"Total operations: {total_operations}\")\n",
    "    print(f\"Execution time: {execution_time:.6f} seconds\")"
   ]
  },
  {
   "cell_type": "code",
   "execution_count": 4,
   "metadata": {},
   "outputs": [
    {
     "name": "stdout",
     "output_type": "stream",
     "text": [
      "Finding GCD of 48 and 18\n",
      "Computing GCD(48, 18)\n",
      "m > n, recursive call: GCD(18, 12)\n",
      "  Computing GCD(18, 12)\n",
      "  m > n, recursive call: GCD(12, 6)\n",
      "    Computing GCD(12, 6)\n",
      "    m > n, recursive call: GCD(6, 0)\n",
      "      Computing GCD(6, 0)\n",
      "      n = 0, returning 6\n",
      "\n",
      "GCD(48, 18) = 6\n",
      "Total operations: 7\n",
      "Execution time: 0.000017 seconds\n"
     ]
    }
   ],
   "source": [
    "GCD(48, 18)"
   ]
  }
 ],
 "metadata": {
  "kernelspec": {
   "display_name": "Python 3",
   "language": "python",
   "name": "python3"
  },
  "language_info": {
   "codemirror_mode": {
    "name": "ipython",
    "version": 3
   },
   "file_extension": ".py",
   "mimetype": "text/x-python",
   "name": "python",
   "nbconvert_exporter": "python",
   "pygments_lexer": "ipython3",
   "version": "3.11.5"
  }
 },
 "nbformat": 4,
 "nbformat_minor": 2
}
