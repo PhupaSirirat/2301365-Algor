{
 "cells": [
  {
   "cell_type": "code",
   "execution_count": 48,
   "metadata": {},
   "outputs": [],
   "source": [
    "def coin_change_ways(coins, amount):\n",
    "    # Initialize dp array to store solutions for each amount\n",
    "    dp = [[] for _ in range(amount + 1)]\n",
    "    dp[0] = [[]]  # There's one way to make change for 0, which is an empty combination.\n",
    "    \n",
    "    # For each coin, update dp array to store actual combinations\n",
    "    for coin in coins:\n",
    "        for i in range(coin, amount + 1):\n",
    "            for combo in dp[i - coin]:\n",
    "                dp[i].append(combo + [coin])\n",
    "    \n",
    "    # Print all combinations for the given amount\n",
    "    for solution in dp[amount]:\n",
    "        print(solution)\n",
    "    \n",
    "    return len(dp[amount])"
   ]
  },
  {
   "cell_type": "code",
   "execution_count": 49,
   "metadata": {},
   "outputs": [
    {
     "name": "stdout",
     "output_type": "stream",
     "text": [
      "All combinations to make change for 5:\n",
      "[1, 1, 1, 1, 1]\n",
      "[1, 1, 1, 2]\n",
      "[1, 2, 2]\n",
      "[1, 1, 3]\n",
      "[2, 3]\n",
      "Number of sulutions: 5\n"
     ]
    }
   ],
   "source": [
    "# Example usage:\n",
    "coins = [1, 2, 3]\n",
    "amount = 5\n",
    "print(f\"All combinations to make change for {amount}:\")\n",
    "print(\"Number of sulutions:\" ,coin_change_ways(coins, amount))"
   ]
  },
  {
   "cell_type": "code",
   "execution_count": 50,
   "metadata": {},
   "outputs": [
    {
     "name": "stdout",
     "output_type": "stream",
     "text": [
      "All combinations to make change for 12:\n",
      "[2, 2, 2, 2, 2, 2]\n",
      "[2, 2, 2, 6]\n",
      "[6, 6]\n",
      "[2, 10]\n",
      "Number of sulutions: 4\n"
     ]
    }
   ],
   "source": [
    "# Example usage:\n",
    "coins = [2, 6, 7, 10]\n",
    "amount = 12\n",
    "print(f\"All combinations to make change for {amount}:\")\n",
    "print(\"Number of sulutions:\" ,coin_change_ways(coins, amount))"
   ]
  }
 ],
 "metadata": {
  "language_info": {
   "name": "python"
  }
 },
 "nbformat": 4,
 "nbformat_minor": 2
}
