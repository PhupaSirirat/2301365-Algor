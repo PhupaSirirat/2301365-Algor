{
 "cells": [
  {
   "cell_type": "code",
   "execution_count": 28,
   "metadata": {},
   "outputs": [],
   "source": [
    "def min_coin_change_with_solution(amount, coins):\n",
    "    # Initialize dp array where each element is a tuple (min_coins, combination_of_coins)\n",
    "    dp = [(float('inf'), [])] * (amount + 1)\n",
    "    dp[0] = (0, [])  # No coins needed for 0 amount\n",
    "    print(\"Initial dp: \", dp)\n",
    "\n",
    "    # For each coin, update dp array to store the minimum number of coins and the combination used\n",
    "    for coin in coins:\n",
    "        print(\"Current coin: \", coin)\n",
    "        for i in range(coin, amount + 1):\n",
    "            if dp[i - coin][0] + 1 < dp[i][0]:\n",
    "                dp[i] = (dp[i - coin][0] + 1, dp[i - coin][1] + [coin])\n",
    "                print(\"dp: \", dp)\n",
    "\n",
    "    # If dp[amount] is still infinity, it means the amount cannot be made up with the given coins\n",
    "    if dp[amount][0] == float('inf'):\n",
    "        return -1, []\n",
    "    \n",
    "    # Return the number of coins and the combination of coins used\n",
    "    return dp[amount][0], dp[amount][1]\n"
   ]
  },
  {
   "cell_type": "code",
   "execution_count": 29,
   "metadata": {},
   "outputs": [
    {
     "name": "stdout",
     "output_type": "stream",
     "text": [
      "Initial dp:  [(0, []), (inf, []), (inf, []), (inf, []), (inf, []), (inf, [])]\n",
      "Current coin:  1\n",
      "dp:  [(0, []), (1, [1]), (inf, []), (inf, []), (inf, []), (inf, [])]\n",
      "dp:  [(0, []), (1, [1]), (2, [1, 1]), (inf, []), (inf, []), (inf, [])]\n",
      "dp:  [(0, []), (1, [1]), (2, [1, 1]), (3, [1, 1, 1]), (inf, []), (inf, [])]\n",
      "dp:  [(0, []), (1, [1]), (2, [1, 1]), (3, [1, 1, 1]), (4, [1, 1, 1, 1]), (inf, [])]\n",
      "dp:  [(0, []), (1, [1]), (2, [1, 1]), (3, [1, 1, 1]), (4, [1, 1, 1, 1]), (5, [1, 1, 1, 1, 1])]\n",
      "Current coin:  2\n",
      "dp:  [(0, []), (1, [1]), (1, [2]), (3, [1, 1, 1]), (4, [1, 1, 1, 1]), (5, [1, 1, 1, 1, 1])]\n",
      "dp:  [(0, []), (1, [1]), (1, [2]), (2, [1, 2]), (4, [1, 1, 1, 1]), (5, [1, 1, 1, 1, 1])]\n",
      "dp:  [(0, []), (1, [1]), (1, [2]), (2, [1, 2]), (2, [2, 2]), (5, [1, 1, 1, 1, 1])]\n",
      "dp:  [(0, []), (1, [1]), (1, [2]), (2, [1, 2]), (2, [2, 2]), (3, [1, 2, 2])]\n",
      "Current coin:  3\n",
      "dp:  [(0, []), (1, [1]), (1, [2]), (1, [3]), (2, [2, 2]), (3, [1, 2, 2])]\n",
      "dp:  [(0, []), (1, [1]), (1, [2]), (1, [3]), (2, [2, 2]), (2, [2, 3])]\n",
      "Minimum number of coins needed: 2\n",
      "Coins used to make the amount: [2, 3]\n"
     ]
    }
   ],
   "source": [
    "# Example usage:\n",
    "amount = 5\n",
    "coins = [1, 2, 3]\n",
    "min_coins, solution = min_coin_change_with_solution(amount, coins)\n",
    "print(f\"Minimum number of coins needed: {min_coins}\")\n",
    "print(f\"Coins used to make the amount: {solution}\")"
   ]
  },
  {
   "cell_type": "code",
   "execution_count": 30,
   "metadata": {},
   "outputs": [
    {
     "name": "stdout",
     "output_type": "stream",
     "text": [
      "Initial dp:  [(0, []), (inf, []), (inf, []), (inf, []), (inf, []), (inf, []), (inf, []), (inf, []), (inf, []), (inf, []), (inf, []), (inf, []), (inf, [])]\n",
      "Current coin:  2\n",
      "dp:  [(0, []), (inf, []), (1, [2]), (inf, []), (inf, []), (inf, []), (inf, []), (inf, []), (inf, []), (inf, []), (inf, []), (inf, []), (inf, [])]\n",
      "dp:  [(0, []), (inf, []), (1, [2]), (inf, []), (2, [2, 2]), (inf, []), (inf, []), (inf, []), (inf, []), (inf, []), (inf, []), (inf, []), (inf, [])]\n",
      "dp:  [(0, []), (inf, []), (1, [2]), (inf, []), (2, [2, 2]), (inf, []), (3, [2, 2, 2]), (inf, []), (inf, []), (inf, []), (inf, []), (inf, []), (inf, [])]\n",
      "dp:  [(0, []), (inf, []), (1, [2]), (inf, []), (2, [2, 2]), (inf, []), (3, [2, 2, 2]), (inf, []), (4, [2, 2, 2, 2]), (inf, []), (inf, []), (inf, []), (inf, [])]\n",
      "dp:  [(0, []), (inf, []), (1, [2]), (inf, []), (2, [2, 2]), (inf, []), (3, [2, 2, 2]), (inf, []), (4, [2, 2, 2, 2]), (inf, []), (5, [2, 2, 2, 2, 2]), (inf, []), (inf, [])]\n",
      "dp:  [(0, []), (inf, []), (1, [2]), (inf, []), (2, [2, 2]), (inf, []), (3, [2, 2, 2]), (inf, []), (4, [2, 2, 2, 2]), (inf, []), (5, [2, 2, 2, 2, 2]), (inf, []), (6, [2, 2, 2, 2, 2, 2])]\n",
      "Current coin:  6\n",
      "dp:  [(0, []), (inf, []), (1, [2]), (inf, []), (2, [2, 2]), (inf, []), (1, [6]), (inf, []), (4, [2, 2, 2, 2]), (inf, []), (5, [2, 2, 2, 2, 2]), (inf, []), (6, [2, 2, 2, 2, 2, 2])]\n",
      "dp:  [(0, []), (inf, []), (1, [2]), (inf, []), (2, [2, 2]), (inf, []), (1, [6]), (inf, []), (2, [2, 6]), (inf, []), (5, [2, 2, 2, 2, 2]), (inf, []), (6, [2, 2, 2, 2, 2, 2])]\n",
      "dp:  [(0, []), (inf, []), (1, [2]), (inf, []), (2, [2, 2]), (inf, []), (1, [6]), (inf, []), (2, [2, 6]), (inf, []), (3, [2, 2, 6]), (inf, []), (6, [2, 2, 2, 2, 2, 2])]\n",
      "dp:  [(0, []), (inf, []), (1, [2]), (inf, []), (2, [2, 2]), (inf, []), (1, [6]), (inf, []), (2, [2, 6]), (inf, []), (3, [2, 2, 6]), (inf, []), (2, [6, 6])]\n",
      "Current coin:  7\n",
      "dp:  [(0, []), (inf, []), (1, [2]), (inf, []), (2, [2, 2]), (inf, []), (1, [6]), (1, [7]), (2, [2, 6]), (inf, []), (3, [2, 2, 6]), (inf, []), (2, [6, 6])]\n",
      "dp:  [(0, []), (inf, []), (1, [2]), (inf, []), (2, [2, 2]), (inf, []), (1, [6]), (1, [7]), (2, [2, 6]), (2, [2, 7]), (3, [2, 2, 6]), (inf, []), (2, [6, 6])]\n",
      "dp:  [(0, []), (inf, []), (1, [2]), (inf, []), (2, [2, 2]), (inf, []), (1, [6]), (1, [7]), (2, [2, 6]), (2, [2, 7]), (3, [2, 2, 6]), (3, [2, 2, 7]), (2, [6, 6])]\n",
      "Current coin:  10\n",
      "dp:  [(0, []), (inf, []), (1, [2]), (inf, []), (2, [2, 2]), (inf, []), (1, [6]), (1, [7]), (2, [2, 6]), (2, [2, 7]), (1, [10]), (3, [2, 2, 7]), (2, [6, 6])]\n",
      "Minimum number of coins needed: 2\n",
      "Coins used to make the amount: [6, 6]\n"
     ]
    }
   ],
   "source": [
    "# Example usage:\n",
    "amount = 12\n",
    "coins = [2, 6, 7, 10]\n",
    "min_coins, solution = min_coin_change_with_solution(amount, coins)\n",
    "print(f\"Minimum number of coins needed: {min_coins}\")\n",
    "print(f\"Coins used to make the amount: {solution}\")"
   ]
  }
 ],
 "metadata": {
  "language_info": {
   "name": "python"
  }
 },
 "nbformat": 4,
 "nbformat_minor": 2
}
